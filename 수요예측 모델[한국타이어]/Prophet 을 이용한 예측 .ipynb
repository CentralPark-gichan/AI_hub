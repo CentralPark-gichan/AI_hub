{
 "cells": [
  {
   "cell_type": "markdown",
   "metadata": {},
   "source": [
    "# Prophet 을 이용한 예측 \n",
    "- 매일의 daily_sales만을 이용해서 Prophet 모델을 적용한 코드입니다. \n",
    "- 전처리\n",
    "    - Qty가 0 이하인 값은 모두 0으로 바꿔줍니다. \n",
    "- 모델 학습 (Prophet)\n",
    "    - 독일의 공휴일을 파라미터로 넣어줍니다. \n",
    "    - 12월 및 주말에 대한 정보를 파라미터로 넣어줍니다. \n",
    "- 후처리 \n",
    "    - 값이 음수이거나 공휴일과 주말에 높은 값을 가지면 40(기존 주말 공휴일의 평균적인 Qty)으로 대체해줍니다. (기존에 주말과 공휴일에는 일반적으로 낮은 Qty를 가짐) "
   ]
  },
  {
   "cell_type": "code",
   "execution_count": null,
   "metadata": {},
   "outputs": [],
   "source": [
    "# 패키지를 설치합니다. \n",
    "!conda install -y gcc \n",
    "!conda install -y -c conda-forge fbprophet"
   ]
  },
  {
   "cell_type": "code",
   "execution_count": null,
   "metadata": {},
   "outputs": [],
   "source": [
    "%matplotlib inline\n",
    "# 패키지를 로드합니다. \n",
    "import pandas as pd\n",
    "from fbprophet import Prophet\n",
    "\n",
    "import matplotlib.pyplot as plt\n",
    "plt.style.use('fivethirtyeight')"
   ]
  },
  {
   "cell_type": "code",
   "execution_count": null,
   "metadata": {},
   "outputs": [],
   "source": [
    "# 데이터를 불러옵니다. \n",
    "path = '/home/workspace/data/.train/.task152/train/'\n",
    "train = pd.read_csv(path + '1_daily_sales.csv')"
   ]
  },
  {
   "cell_type": "code",
   "execution_count": null,
   "metadata": {},
   "outputs": [],
   "source": [
    "# 0이하의 값은 모두 0으로 전처리를 진행합니다. \n",
    "train.loc[train['Qty'] < 0, 'Qty'] = 0"
   ]
  },
  {
   "cell_type": "code",
   "execution_count": null,
   "metadata": {},
   "outputs": [],
   "source": [
    "# YYYYMMDD으로 Qty의 평균을 내서 계산합니다. \n",
    "import datetime \n",
    "train = train.groupby('YYYYMMDD')['Qty'].agg({'sum'}).reset_index()\n",
    "train['Time'] = pd.to_datetime(train['YYYYMMDD'].astype(str).apply(lambda x: x[0:4] + '-' + x[4:6] + '-' + x[6:]))"
   ]
  },
  {
   "cell_type": "code",
   "execution_count": null,
   "metadata": {},
   "outputs": [],
   "source": [
    "# Qty가 0인 항목들은 모두 제거해줍니다. \n",
    "train = train[train['sum'] != 0].reset_index(drop=True)"
   ]
  },
  {
   "cell_type": "code",
   "execution_count": null,
   "metadata": {},
   "outputs": [],
   "source": [
    "# Prophet의 입력형태에 맞는 값으로 변경합니다. \n",
    "df = train[['Time', 'sum']]\n",
    "df.columns = ['ds', 'y']"
   ]
  },
  {
   "cell_type": "code",
   "execution_count": null,
   "metadata": {},
   "outputs": [],
   "source": [
    "# 2015-2019의 독일 공휴일 데이터를 생성합니다. \n",
    "neujahr = pd.DataFrame({\n",
    "  'holiday': 'neujahr',\n",
    "  'ds': pd.to_datetime(['2015-01-01', '2016-01-01', '2017-01-01', '2018-01-01', '2019-01-01'])\n",
    "})\n",
    "\n",
    "karfreitag = pd.DataFrame({\n",
    "  'holiday': 'karfreitag',\n",
    "  'ds': pd.to_datetime(['2015-04-03', '2015-04-06', '2016-03-25', '2016-03-28', '2017-04-14', '2017-04-17', \n",
    "                       '2018-03-30', '2018-04-02', '2019-04-19', '2019-04-22'])\n",
    "})\n",
    "\n",
    "tagderarbeit = pd.DataFrame({\n",
    "  'holiday': 'tagderarbeit',\n",
    "  'ds': pd.to_datetime(['2015-05-01', '2016-05-01', '2017-05-01', '2018-05-01', '2019-05-01'])\n",
    "})\n",
    "\n",
    "ChristiHimmelfahrt = pd.DataFrame({\n",
    "  'holiday': 'ChristiHimmelfahrt',\n",
    "  'ds': pd.to_datetime(['2015-05-14', '2016-05-05', '2017-05-25', '2018-05-10', '2019-05-30'])\n",
    "})\n",
    "\n",
    "pfingetmontag = pd.DataFrame({\n",
    "  'holiday': 'pfingetmontag',\n",
    "  'ds': pd.to_datetime(['2015-05-25', '2016-05-16', '2017-06-05', '2018-05-21', '2019-06-10'])\n",
    "})\n",
    "\n",
    "tagderdeuscheneinheit = pd.DataFrame({\n",
    "  'holiday': 'tagderdeuscheneinheit',\n",
    "  'ds': pd.to_datetime(['2015-10-03', '2016-10-03', '2017-10-03', '2018-10-03', '2019-10-03'])\n",
    "})\n",
    "\n",
    "chrismas = pd.DataFrame({\n",
    "  'holiday': 'chrismas',\n",
    "  'ds': pd.to_datetime(['2015-12-25', '2016-12-25', '2017-12-25', '2018-12-25', '2019-12-25', \n",
    "                       '2015-12-26', '2016-12-26', '2017-12-26', '2018-12-26', '2019-12-26'])\n",
    "})\n",
    "\n",
    "holidays = pd.concat([neujahr, karfreitag, tagderarbeit, ChristiHimmelfahrt, pfingetmontag, \n",
    "                      tagderdeuscheneinheit, chrismas\n",
    "                     ], axis=0)"
   ]
  },
  {
   "cell_type": "code",
   "execution_count": null,
   "metadata": {},
   "outputs": [],
   "source": [
    "# prophet 모델을 만들어줍니다. \n",
    "my_model = Prophet(interval_width=0.99, \n",
    "                yearly_seasonality=True, \n",
    "                seasonality_mode='additive', # multiplicative\n",
    "                #changepoint_prior_scale = 0.001, \n",
    "                #seasonality_prior_scale = 0.001,\n",
    "                holidays = holidays, \n",
    "                holidays_prior_scale = 0.01\n",
    ")"
   ]
  },
  {
   "cell_type": "code",
   "execution_count": null,
   "metadata": {},
   "outputs": [],
   "source": [
    "# 주말여부 및 12월 여부에 대한 변수를 만듭니다. \n",
    "df['on_weekend'] = pd.to_datetime(df['ds']).dt.weekday >= 5\n",
    "df['off_weekend'] = ~(pd.to_datetime(df['ds']).dt.weekday >= 5)\n",
    "\n",
    "df['on_12month'] = pd.to_datetime(df['ds']).dt.month == 12\n",
    "df['off_12month'] = pd.to_datetime(df['ds']).dt.month != 12"
   ]
  },
  {
   "cell_type": "code",
   "execution_count": null,
   "metadata": {},
   "outputs": [],
   "source": [
    "# 해당 정보에 대해서 모델에 추가해줍니다. \n",
    "my_model.add_seasonality(name='on_weekend', period=7, fourier_order=3, condition_name='on_weekend')\n",
    "my_model.add_seasonality(name='off_weekend', period=7, fourier_order=3, condition_name='off_weekend')\n",
    "\n",
    "my_model.add_seasonality(name='on_12month', period=30, fourier_order=3, condition_name='on_12month')\n",
    "my_model.add_seasonality(name='off_12month', period=30, fourier_order=3, condition_name='off_12month')\n",
    "\n",
    "# 모델의 학습을 진행합니다. \n",
    "my_model.fit(df)\n",
    "\n",
    "import pickle\n",
    "with open(\"my_model\", \"wb\") as f:\n",
    "     pickle.dump(my_model, f)"
   ]
  },
  {
   "cell_type": "code",
   "execution_count": null,
   "metadata": {},
   "outputs": [],
   "source": [
    "# 테스트 데이터를 생성합니다. \n",
    "with open(\"my_model\", \"rb\") as f:\n",
    "    my_model = pickle.load(f)\n",
    "    \n",
    "future_dates = my_model.make_future_dataframe(periods=92, freq='D')\n",
    "\n",
    "# 테스트 데이터에도 변수를 추가해줍니다. \n",
    "future_dates['on_weekend'] = pd.to_datetime(future_dates['ds']).dt.weekday >= 5\n",
    "future_dates['off_weekend'] = ~(pd.to_datetime(future_dates['ds']).dt.weekday >= 5)\n",
    "\n",
    "future_dates['on_12month'] = pd.to_datetime(future_dates['ds']).dt.month == 12\n",
    "future_dates['off_12month'] = pd.to_datetime(future_dates['ds']).dt.month != 12"
   ]
  },
  {
   "cell_type": "code",
   "execution_count": null,
   "metadata": {},
   "outputs": [],
   "source": [
    "# 예측을 진행합니다. \n",
    "forecast = my_model.predict(future_dates)\n",
    "forecast[['ds', 'yhat', 'yhat_lower', 'yhat_upper']].tail()"
   ]
  },
  {
   "cell_type": "code",
   "execution_count": null,
   "metadata": {},
   "outputs": [],
   "source": [
    "# 예측된 결과를 뽑습니다. \n",
    "prediction = forecast.tail(92)[['ds', 'yhat']]\n",
    "prediction.tail(10)"
   ]
  },
  {
   "cell_type": "code",
   "execution_count": null,
   "metadata": {},
   "outputs": [],
   "source": [
    "# Qty값만 가져옵니다. \n",
    "prediction['Qty'] = prediction['yhat'] \n",
    "del prediction['yhat']"
   ]
  },
  {
   "cell_type": "code",
   "execution_count": null,
   "metadata": {},
   "outputs": [],
   "source": [
    "prediction.columns = ['YYYYMMDD', 'Qty']"
   ]
  },
  {
   "cell_type": "code",
   "execution_count": null,
   "metadata": {},
   "outputs": [],
   "source": [
    "# 후처리를 위해 Weekend가 언제인지 값을 가져옵니다. \n",
    "import pandas as pd \n",
    "prediction.loc[prediction['Qty'] < 0, 'Qty'] = 0\n",
    "prediction['Time'] = pd.to_datetime(prediction['YYYYMMDD'])\n",
    "prediction['weekday'] = prediction['Time'].dt.weekday\n",
    "prediction['weekend'] = prediction['weekday'].map({0:0, 1:0, 2:0, 3:0, 4:0, 5:1, 6:1})\n",
    "prediction['YYYYMMDD'] = prediction['Time'].dt.year * 10000 + prediction['Time'].dt.month * 100 + prediction['Time'].dt.day * 1\n",
    "prediction.head()"
   ]
  },
  {
   "cell_type": "code",
   "execution_count": null,
   "metadata": {},
   "outputs": [],
   "source": [
    "# Qty가 0보다 작은 경우에는 0값을, 주말인 경우에는 40을 넣습니다. \n",
    "prediction.loc[prediction['Qty'] < 0, 'Qty'] = 0\n",
    "prediction.loc[prediction['weekend'] == 1, 'Qty'] = 40\n",
    "\n",
    "# 휴일 (통일 기념일)에도 마찬가지로 40의 값을 넣습니다. \n",
    "prediction.loc[prediction['YYYYMMDD'] == 20191003, 'Qty'] = 40\n",
    "\n",
    "del prediction['Time'], prediction['weekday'], prediction['weekend']"
   ]
  },
  {
   "cell_type": "code",
   "execution_count": null,
   "metadata": {},
   "outputs": [],
   "source": [
    "# sub에 없으면 날짜는 제거해줍니다. \n",
    "prediction_path = '/home/workspace/data/baseline/task152/prediction/prediction.csv'\n",
    "\n",
    "# 최종 제출 형식에 맞게 파일을 설정합니다. \n",
    "a = pd.read_csv(prediction_path)\n",
    "sub = pd.merge(a, prediction, how='left', on='YYYYMMDD')\n",
    "sub = sub[['YYYYMMDD', 'Qty_y']].rename(columns={'Qty_y':'Qty'})"
   ]
  },
  {
   "cell_type": "code",
   "execution_count": null,
   "metadata": {},
   "outputs": [],
   "source": [
    "# 모델이 얼마나 잘 에측했는 지 확인합니다. \n",
    "from plotnine import * \n",
    "path = '/home/workspace/data/.train/.task152/train/'\n",
    "\n",
    "train = pd.read_csv(path + '1_daily_sales.csv')\n",
    "agg = train.groupby('YYYYMMDD')['Qty'].agg({'sum'}).reset_index().rename(columns={'sum':'Qty'})\n",
    "agg['Type'] = 'Train'\n",
    "\n",
    "sub_sample = sub.copy()\n",
    "sub_sample['Type'] = 'Test'\n",
    "\n",
    "agg = pd.concat([agg, sub_sample], axis=0)\n",
    "agg['Time'] = pd.to_datetime(agg['YYYYMMDD'].astype(str).apply(lambda x: x[0:4] + '-' + x[4:6] + '-' + x[6:]))\n",
    "\n",
    "(ggplot(data = agg) + \n",
    "    geom_line(aes(x='Time', y='Qty', group='Type', color='Type')))"
   ]
  },
  {
   "attachments": {
    "image.png": {
     "image/png": "[encoded data removed]"
    }
   },
   "cell_type": "markdown",
   "metadata": {},
   "source": [
    "![image.png](attachment:image.png)"
   ]
  },
  {
   "cell_type": "code",
   "execution_count": null,
   "metadata": {},
   "outputs": [],
   "source": [
    "# 결과를 저장합니다. \n",
    "prediction_path = \"/home/workspace/user-workspace/prediction/prediction(Prophet).csv\"\n",
    "sub.to_csv(\"/home/workspace/user-workspace/prediction/prediction(Prophet).csv\", index=False)"
   ]
  },
  {
   "cell_type": "code",
   "execution_count": null,
   "metadata": {},
   "outputs": [],
   "source": [
    "import os\n",
    "# prediction.to_csv(\"/home/workspace/user-workspace/prediction/prediction(Prophet1).csv\", index=False)\n",
    "from nipa.taskSubmit import nipa_submit\n",
    "\n",
    "team_id = \"1192\"\n",
    "task_no= \"152\"\n",
    "\n",
    "# 파일 존재 여부 확인\n",
    "print(\"is file: \", os.path.isfile(prediction_path))\n",
    "\n",
    "# 제출 성공\n",
    "nipa_submit(team_id=team_id,\n",
    "    task_no=task_no,\n",
    "    result=prediction_path, \n",
    "    model=model_path     \n",
    ")"
   ]
  },
  {
   "cell_type": "code",
   "execution_count": null,
   "metadata": {},
   "outputs": [],
   "source": []
  },
  {
   "cell_type": "code",
   "execution_count": null,
   "metadata": {},
   "outputs": [],
   "source": []
  },
  {
   "cell_type": "code",
   "execution_count": null,
   "metadata": {},
   "outputs": [],
   "source": []
  }
 ],
 "metadata": {
  "kernelspec": {
   "display_name": "Pytorch",
   "language": "python",
   "name": "pytorch"
  },
  "language_info": {
   "codemirror_mode": {
    "name": "ipython",
    "version": 3
   },
   "file_extension": ".py",
   "mimetype": "text/x-python",
   "name": "python",
   "nbconvert_exporter": "python",
   "pygments_lexer": "ipython3",
   "version": "3.7.9"
  }
 },
 "nbformat": 4,
 "nbformat_minor": 4
}
