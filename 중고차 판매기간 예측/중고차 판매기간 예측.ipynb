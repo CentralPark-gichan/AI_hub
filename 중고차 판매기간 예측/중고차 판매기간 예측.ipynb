{
 "cells": [
  {
   "cell_type": "markdown",
   "metadata": {},
   "source": [
    "# 분석 과정\n",
    "\n",
    "- 전처리 (preprocess)\n",
    "- 변수선택 (permutation process)\n",
    "- 모델링 (training)\n",
    "- 예측 (prediction)\n",
    "- 사후처리 (postprocess)\n",
    "\n",
    "## training부분만 생략해주시면 됩니다"
   ]
  },
  {
   "cell_type": "code",
   "execution_count": null,
   "metadata": {},
   "outputs": [],
   "source": [
    "import pandas as pd\n",
    "import numpy as np\n",
    "from matplotlib import pyplot as plt\n",
    "import warnings\n",
    "warnings.filterwarnings('ignore')\n",
    "warnings.simplefilter(action='ignore', category=FutureWarning)"
   ]
  },
  {
   "cell_type": "markdown",
   "metadata": {},
   "source": [
    "# Load data"
   ]
  },
  {
   "cell_type": "code",
   "execution_count": null,
   "metadata": {},
   "outputs": [],
   "source": [
    "train = pd.read_csv('../data/.train/.task147/train.csv', index_col=0)\n",
    "test = pd.read_csv('../data/.train/.task147/test.csv', index_col=0)\n",
    "sample_submission = pd.read_csv('../data/.train/.task147/sample_submission.csv')"
   ]
  },
  {
   "cell_type": "code",
   "execution_count": null,
   "metadata": {},
   "outputs": [],
   "source": [
    "# numeric column, dummy column만 추출하기 위해 잠깐 train test를 합쳤습니다.\n",
    "df = train.append(test)"
   ]
  },
  {
   "cell_type": "code",
   "execution_count": null,
   "metadata": {},
   "outputs": [],
   "source": [
    "numeric_col = pd.Series([i[0:2] for i in df.columns]).isin(['va'])\n",
    "numeric_col = df.columns[numeric_col]\n",
    "\n",
    "dummy_col = pd.Series([i[0:3] for i in df.columns]).isin(['dum'])\n",
    "dummy_col = df.columns[dummy_col]"
   ]
  },
  {
   "cell_type": "code",
   "execution_count": null,
   "metadata": {},
   "outputs": [],
   "source": [
    "nudummy_col = ['va08', 'va09','va10','va11','va14','va15','va16','va17','va18','va19','va20','va21','va29','va30','va31','va32','va34']"
   ]
  },
  {
   "cell_type": "code",
   "execution_count": null,
   "metadata": {},
   "outputs": [],
   "source": [
    "train.drop(['dum_3_3','dum_4_1'], axis=1, inplace=True)\n",
    "test.drop(['dum_3_3','dum_4_1'], axis=1, inplace=True)"
   ]
  },
  {
   "cell_type": "code",
   "execution_count": null,
   "metadata": {},
   "outputs": [],
   "source": [
    "dummy_col = dummy_col.drop(['dum_3_3','dum_4_1'])"
   ]
  },
  {
   "cell_type": "code",
   "execution_count": null,
   "metadata": {},
   "outputs": [],
   "source": [
    "numeric_col = numeric_col.drop(nudummy_col)"
   ]
  },
  {
   "cell_type": "code",
   "execution_count": null,
   "metadata": {},
   "outputs": [],
   "source": [
    "print(dummy_col) # category\n",
    "print(numeric_col) # numeric\n",
    "print(nudummy_col) # numeric, but have only two cases"
   ]
  },
  {
   "cell_type": "markdown",
   "metadata": {},
   "source": [
    "# preprocess"
   ]
  },
  {
   "cell_type": "code",
   "execution_count": null,
   "metadata": {},
   "outputs": [],
   "source": [
    "# 기존의 one hot encoding되어있던 변수를 하나의 dummy변수로 바꿔주는 코드\n",
    "def dummy_to_origincol(Data_input, dum_name):\n",
    "    Data = Data_input.copy()\n",
    "    idx = Data.columns[Data.columns.str.find(dum_name) == 0]\n",
    "    Data_temp = Data[idx].copy()\n",
    "    for n, col in enumerate(Data_temp.columns):\n",
    "        n = n+1\n",
    "        Data_temp[col] = Data_temp[col]*n\n",
    "    return Data_temp.sum(axis=1)"
   ]
  },
  {
   "cell_type": "code",
   "execution_count": null,
   "metadata": {},
   "outputs": [],
   "source": [
    "from sklearn.preprocessing import QuantileTransformer\n",
    "quantile = QuantileTransformer(output_distribution='normal', random_state=42)\n",
    "\n",
    "def preprocess(train_input,test_input, model_type, scale_type=None):\n",
    "\n",
    "    train = train_input.copy()\n",
    "    test = test_input.copy()        \n",
    "    #Data = train_input.append(test_input)\n",
    "    #Data = Data.reset_index(drop=True)\n",
    "    \n",
    "    #if model_type == 'boosting' or model_type == 'linear':\n",
    "    \n",
    "    if scale_type == 'quantile':\n",
    "        quantile.fit(train[numeric_col])\n",
    "        train[numeric_col] = quantile.transform(train[numeric_col]) \n",
    "        test[numeric_col] = quantile.transform(test[numeric_col])\n",
    "\n",
    "    if scale_type == 'minmax':\n",
    "        scaler.fit(train[numeric_col])\n",
    "        train[numeric_col] = scaler.transform(train[numeric_col])*10\n",
    "        test[numeric_col] = scaler.transform(test[numeric_col])*10    \n",
    "    \n",
    "    # 최종적으로 사용한 scaling : None\n",
    "    if scale_type == None:\n",
    "        pass\n",
    "        #for col in ['va01']:\n",
    "           \n",
    "        #    bins = create_bins(lower_bound=0,\n",
    "        #           width=50,\n",
    "        #           quantity=50)\n",
    "        #    bins2 = pd.IntervalIndex.from_tuples(bins)\n",
    "        #    bins_train = pd.cut(train[col], bins2)\n",
    "        #    bins_test = pd.cut(test[col], bins2)\n",
    "        #    encoding = pd.DataFrame(bins_train).groupby(col).size()/len(train)\n",
    "        #    train[col + \"freq\"] = bins_train.apply(lambda x : encoding[x])\n",
    "        #    test[col + \"freq\"] = bins_train.apply(lambda x : encoding[x])            \n",
    "    ## boosting model\n",
    "    \n",
    "    # one hot encoding된 dummy변수를 lgbm의 cat_features에 사용하기 위해서 바꿔주는 과정\n",
    "    if model_type == 'boosting':\n",
    "        for col in ['dum_1', 'dum_2','dum_3','dum_4']:\n",
    "            dum_tr = dummy_to_origincol(train, col).reset_index(drop=True)\n",
    "            dum_te = dummy_to_origincol(test, col).reset_index(drop=True)            \n",
    "            \n",
    "            train[col] = np.array(dum_tr)\n",
    "            test[col] = np.array(dum_te)\n",
    "           \n",
    "     # va05(연식으로 추정)변수만 train에서 frequency를 계산하여 test에 적용\n",
    "    for col in ['va05']:\n",
    "        try:\n",
    "            encoding = train[numeric_col].groupby(col).size() / len(train)\n",
    "            train[col + \"freq_encode\"] = train[col].apply(lambda x : encoding[x])\n",
    "            test[col + \"freq_encode\"] = test[col].apply(lambda x : encoding[x])         \n",
    "        except:\n",
    "            pass\n",
    "       \n",
    "    ## square of numeric col\n",
    "    # 변수의 의미를 모르기에 단순히 연속형 변수를 2~10제곱으로 파생변수 생성\n",
    "    for i, num in enumerate([2, 3, 4, 5, 6, 7, 8, 9, 10]):        \n",
    "        square = train[numeric_col]**(num)        \n",
    "        square.columns = numeric_col + \"_\" + str(i) + \"sq\"    \n",
    "        train[square.columns] = square\n",
    "        \n",
    "        square = test[numeric_col]**(num)        \n",
    "        square.columns = numeric_col + \"_\" + str(i) + \"sq\"    \n",
    "        test[square.columns] = square    \n",
    "    \n",
    "    return train.drop('ad_periods', axis=1), train['ad_periods'], test\n",
    "    \n",
    "    ## 샘플 버전\n",
    "    #return Data, train_input.append(test_input)['ad_periods']"
   ]
  },
  {
   "cell_type": "code",
   "execution_count": null,
   "metadata": {},
   "outputs": [],
   "source": [
    "def rmse2(y_true, y_pred):\n",
    "    y_true[y_true < 0] = 0\n",
    "    y_pred[y_pred < 0] = 0\n",
    "    return 'rmse2', np.sqrt(((y_pred - y_true)**2).mean()) , False"
   ]
  },
  {
   "cell_type": "code",
   "execution_count": null,
   "metadata": {},
   "outputs": [],
   "source": [
    "def custom_RMSE(y_true, y_pred):\n",
    "    residual = (y_pred - y_true)  \n",
    "    grad = residual\n",
    "    hess = np.ones(len(y_true))\n",
    "    return grad, hess"
   ]
  },
  {
   "cell_type": "code",
   "execution_count": null,
   "metadata": {},
   "outputs": [],
   "source": [
    "import lightgbm as lgbm\n",
    "from sklearn.model_selection import KFold, StratifiedKFold\n",
    "from sklearn.model_selection import TimeSeriesSplit\n",
    "from iterstrat.ml_stratifiers import MultilabelStratifiedKFold\n",
    "\n",
    "seed = 42\n",
    "\n",
    "def my_lgb(X_train, y_train, param, X_te, fold_n, seed_n, param_type):\n",
    "    val_save = y_train.copy()\n",
    "    val_save.iloc[:,] = 0 \n",
    "    test_save = np.zeros((len(test, )))\n",
    "    print(len(test_save))\n",
    "    \n",
    "    for n_fold, (trn_idx, val_idx) in enumerate(mskf.split(X_train, bins3)):\n",
    "        print(trn_idx)\n",
    "        print(val_idx)\n",
    "        \n",
    "        trn_x, trn_y = X_train.iloc[trn_idx], y_train.iloc[trn_idx]\n",
    "        val_x, val_y = X_train.iloc[val_idx], y_train.iloc[val_idx]\n",
    "        \n",
    "        reg = lgbm.LGBMRegressor(**param)\n",
    "        reg.fit(trn_x, trn_y, eval_set=[(trn_x, trn_y), (val_x, val_y)],\n",
    "                      verbose=True, \n",
    "                      eval_metric=lambda y_true, y_pred, integer: [rmse2(y_true, y_pred)],\n",
    "                      early_stopping_rounds=100)     \n",
    "        if param_type == None:\n",
    "            save_path = '/home/workspace/user-workspace/중고차KB/'+'lgb_'+str(fold_n)+'_'+str(seed_n)+'_fold'+str(n_fold)+'.txt'\n",
    "            reg.booster_.save_model(save_path)\n",
    "            reg = lgbm.Booster(model_file='/home/workspace/user-workspace/중고차KB/'+'lgb_'+str(fold_n)+'_'+str(seed_n)+'_fold'+str(n_fold)+'.txt')\n",
    "        elif param_type == 'second':\n",
    "            save_path = '/home/workspace/user-workspace/중고차KB/'+'lgb3_'+str(fold_n)+'_'+str(seed_n)+'_fold'+str(n_fold)+'.txt'\n",
    "            reg.booster_.save_model(save_path)\n",
    "            reg = lgbm.Booster(model_file='/home/workspace/user-workspace/중고차KB/'+'lgb3_'+str(fold_n)+'_'+str(seed_n)+'_fold'+str(n_fold)+'.txt')\n",
    "                \n",
    "        val_save.iloc[val_idx,] += reg.predict(val_x)\n",
    "        pred_temp = reg.predict(X_te)\n",
    "        test_save += pred_temp/fold_n\n",
    "        \n",
    "    \n",
    "    return val_save, test_save"
   ]
  },
  {
   "cell_type": "code",
   "execution_count": null,
   "metadata": {},
   "outputs": [],
   "source": [
    "def create_bins(lower_bound, width, quantity):   \n",
    "\n",
    "    bins = []\n",
    "    for low in range(lower_bound, \n",
    "                     lower_bound + quantity*width + 1, width):\n",
    "        bins.append((low, low+width))\n",
    "    return bins\n",
    "\n",
    "bins = create_bins(lower_bound=-1,\n",
    "                   width=10,\n",
    "                   quantity=50)\n",
    "bins2 = pd.IntervalIndex.from_tuples(bins)\n",
    "bins3 = pd.cut(train['ad_periods'], bins2)\n",
    "bins3 = pd.get_dummies(bins3)"
   ]
  },
  {
   "cell_type": "markdown",
   "metadata": {},
   "source": [
    "# Permutation (feature selection)"
   ]
  },
  {
   "cell_type": "code",
   "execution_count": null,
   "metadata": {},
   "outputs": [],
   "source": [
    "param = {'objective':'poisson', 'n_estimators':15000, 'learning_rate':0.05,'random_state':42,\n",
    "        'early_stopping_round':100,'colsample_bytree':0.8,'metric':'rmse2'} \n",
    "\n",
    "#param_xgb = {'objective':'reg:linear','n_estimators':10000, 'learning_rate':0.1,'random_state':42,\n",
    "#        'early_stopping_rounds':50,'colsample_bytree':0.8, 'metric':'l1', 'tree_method':'gpu_hist'} \n",
    "\n",
    "\n",
    "def my_permutation_badfeatures(X_train, y_train):\n",
    "    y_train_temp = y_train.copy()\n",
    "    threshold = [0.1, 0.01, 0.001]\n",
    "    bad_features1 = []\n",
    "    bad_features2 = []\n",
    "    bad_features3 = []\n",
    "        \n",
    "    def score(X, y):\n",
    "        y_pred = reg.predict(X)\n",
    "        return np.sqrt(((y-y_pred)**2).mean())\n",
    "    \n",
    "    for n_fold, (trn_idx, val_idx) in enumerate(mskf.split(X_train, bins3)):\n",
    "        trn_x, trn_y = X_train.iloc[trn_idx], y_train_temp.iloc[trn_idx]\n",
    "        val_x, val_y = X_train.iloc[val_idx], y_train_temp.iloc[val_idx]\n",
    "        \n",
    "        #lgbm \n",
    "        reg = lgbm.LGBMRegressor(**param)\n",
    "        reg.fit(trn_x, trn_y, eval_set=[(trn_x, trn_y), (val_x, val_y)],\n",
    "                      verbose=True, eval_metric=lambda y_true, y_pred, integer: [rmse2(y_true, y_pred)],\n",
    "                      early_stopping_rounds=100)\n",
    "        \n",
    "        \n",
    "        \n",
    "        base_score, score_decreases = get_score_importances(score,np.array(val_x), np.array(val_y), n_iter=3, random_state=42)\n",
    "        \n",
    "        bad_features1.extend(list(val_x.columns[score_decreases[0] > -threshold[0]]))\n",
    "        bad_features2.extend(list(val_x.columns[score_decreases[0] > -threshold[1]]))\n",
    "        bad_features3.extend(list(val_x.columns[score_decreases[0] > -threshold[2]]))\n",
    "                             \n",
    "    return bad_features1, bad_features2, bad_features3"
   ]
  },
  {
   "cell_type": "code",
   "execution_count": null,
   "metadata": {},
   "outputs": [],
   "source": [
    "#from eli5.permutation_importance import get_score_importances\n",
    "#mskf = MultilabelStratifiedKFold(n_splits=5, random_state=42, shuffle=True)\n",
    "\n",
    "#X_tr, T, X_te = preprocess(train, test, None, None)\n",
    "#bad_features1n, bad_features2n, bad_features3n = my_permutation_badfeatures(X_tr, T)"
   ]
  },
  {
   "cell_type": "code",
   "execution_count": null,
   "metadata": {},
   "outputs": [],
   "source": [
    "#pd.Series(bad_features1n).value_counts().to_csv(\"/home/workspace/user-workspace/중고차KB/bad_features1n.csv\")\n",
    "#pd.Series(bad_features2n).value_counts().to_csv(\"/home/workspace/user-workspace/중고차KB/bad_features2n.csv\")\n",
    "#pd.Series(bad_features3n).value_counts().to_csv(\"/home/workspace/user-workspace/중고차KB/bad_features3n.csv\")"
   ]
  },
  {
   "cell_type": "markdown",
   "metadata": {},
   "source": [
    "# Training (이 부분은 생략해주시면 됩니다. training 과정입니다)"
   ]
  },
  {
   "cell_type": "code",
   "execution_count": null,
   "metadata": {},
   "outputs": [],
   "source": [
    "X_tr, T, X_te = preprocess(train, test, 'boosting', None)"
   ]
  },
  {
   "cell_type": "code",
   "execution_count": null,
   "metadata": {},
   "outputs": [],
   "source": [
    "bad_featuresn = pd.read_csv(\"/home/workspace/user-workspace/중고차KB/bad_features1n.csv\", index_col=0)\n",
    "bad_featuresn = bad_featuresn[bad_featuresn['0'] >= 5]"
   ]
  },
  {
   "cell_type": "code",
   "execution_count": null,
   "metadata": {},
   "outputs": [],
   "source": [
    "np.where(X_tr.drop(bad_featuresn.index, axis=1).columns.isin(['dum_1','dum_2', 'dum_3', 'dum_4', 'va05']) == 1)[0]"
   ]
  },
  {
   "cell_type": "code",
   "execution_count": null,
   "metadata": {},
   "outputs": [],
   "source": [
    "valid_score = T.copy()\n",
    "valid_score.iloc[:,] = 0 \n",
    "test_score = np.zeros((len(X_te, )))\n",
    "seed_list = [24, 24**2, 24**3]\n",
    "\n",
    "for seed_num in seed_list:\n",
    "    \n",
    "    ## param 1##\n",
    "    ############\n",
    "    # 5fold\n",
    "    \n",
    "    mskf = MultilabelStratifiedKFold(n_splits=5, random_state=seed_num, shuffle=True)\n",
    "    param = {'objective':'poisson', 'n_estimators':30000, 'learning_rate':0.03,'random_state':seed_num,\n",
    "        'early_stopping_round':100,'colsample_bytree':0.5,'metric':'rmse2','categorical_feature':[3, 20, 21, 22, 23],\n",
    "            'lambda_l1':1, 'lambda_l2':1} \n",
    "    \n",
    "    val_pred, pred = my_lgb(X_tr.drop(bad_featuresn.index, axis=1)\n",
    "                            , T, param, X_te.drop(bad_featuresn.index, axis=1),\n",
    "                           fold_n=5, seed_n=seed_num, param_type='second')\n",
    "    valid_score += val_pred/len(seed_list)\n",
    "    test_score += pred/len(seed_list) \n",
    "    \n",
    "    # 10 fold    \n",
    "    mskf = MultilabelStratifiedKFold(n_splits=10, random_state=seed_num, shuffle=True)\n",
    "    val_pred, pred = my_lgb(X_tr.drop(bad_featuresn.index, axis=1), T, param, X_te.drop(bad_featuresn.index, axis=1),\n",
    "                           fold_n=10, seed_n=seed_num, param_type='second')\n",
    "    valid_score += val_pred/len(seed_list)\n",
    "    test_score += pred/len(seed_list)\n",
    "    \n",
    "    ## param 2##\n",
    "    ############\n",
    "    # 5fold\n",
    "    mskf = MultilabelStratifiedKFold(n_splits=5, random_state=seed_num, shuffle=True)\n",
    "    param = {'objective':'poisson', 'n_estimators':30000, 'learning_rate':0.03,'random_state':seed_num,\n",
    "        'early_stopping_round':100,'colsample_bytree':0.5,'metric':'rmse2','categorical_feature':[3, 20, 21, 22, 23]}\n",
    "    \n",
    "    val_pred, pred = my_lgb(X_tr.drop(bad_featuresn.index, axis=1)\n",
    "                            , T, param, X_te.drop(bad_featuresn.index, axis=1),\n",
    "                           fold_n=5, seed_n=seed_num, param_type=None)\n",
    "    valid_score += val_pred/len(seed_list)\n",
    "    test_score += pred/len(seed_list) \n",
    "    \n",
    "    # 10 fold    \n",
    "    mskf = MultilabelStratifiedKFold(n_splits=10, random_state=seed_num, shuffle=True)\n",
    "    val_pred, pred = my_lgb(X_tr.drop(bad_featuresn.index, axis=1), T, param, X_te.drop(bad_featuresn.index, axis=1),\n",
    "                           fold_n=10, seed_n=seed_num, param_type=None)\n",
    "    valid_score += val_pred/len(seed_list)\n",
    "    test_score += pred/len(seed_list)\n",
    "    "
   ]
  },
  {
   "cell_type": "code",
   "execution_count": null,
   "metadata": {},
   "outputs": [],
   "source": [
    "valid_score = valid_score/2\n",
    "test_score = test_score/2"
   ]
  },
  {
   "cell_type": "code",
   "execution_count": null,
   "metadata": {},
   "outputs": [],
   "source": [
    "np.sqrt(((T - (valid_score))**2).mean())"
   ]
  },
  {
   "cell_type": "markdown",
   "metadata": {},
   "source": [
    "# prediction (재현시 여기부터 시행해주시면 됩니다)"
   ]
  },
  {
   "cell_type": "code",
   "execution_count": null,
   "metadata": {},
   "outputs": [],
   "source": [
    "X_tr, T, X_te = preprocess(train, test, 'boosting', None)"
   ]
  },
  {
   "cell_type": "code",
   "execution_count": null,
   "metadata": {},
   "outputs": [],
   "source": [
    "bad_featuresn = pd.read_csv(\"/home/workspace/user-workspace/중고차KB/bad_features1n.csv\", index_col=0)\n",
    "bad_featuresn = bad_featuresn[bad_featuresn['0'] >= 5]"
   ]
  },
  {
   "cell_type": "code",
   "execution_count": null,
   "metadata": {},
   "outputs": [],
   "source": [
    "from tqdm import tqdm"
   ]
  },
  {
   "cell_type": "code",
   "execution_count": null,
   "metadata": {},
   "outputs": [],
   "source": [
    "pred_final = np.zeros((len(test, )))\n",
    "\n",
    "for fold_n in [5, 10]:\n",
    "    for seed_n in tqdm([24, 24**2, 24**3]):\n",
    "        for n_fold in [0, 1, 2, 3, 4, 5, 6, 7, 8, 9]:\n",
    "            try:\n",
    "                model = lgbm.Booster(model_file='/home/workspace/user-workspace/중고차KB/'+'lgb3_'+str(fold_n)+'_'+str(seed_n)+'_fold'+str(n_fold)+'.txt')\n",
    "                pred_final += model.predict(X_te.drop(bad_featuresn.index, axis=1))/(90)\n",
    "                model = lgbm.Booster(model_file='/home/workspace/user-workspace/중고차KB/'+'lgb_'+str(fold_n)+'_'+str(seed_n)+'_fold'+str(n_fold)+'.txt')\n",
    "                pred_final += model.predict(X_te.drop(bad_featuresn.index, axis=1))/(90)               \n",
    "                \n",
    "            except:\n",
    "                pass\n",
    "pred_final[pred_final < 0] = 0"
   ]
  },
  {
   "cell_type": "code",
   "execution_count": null,
   "metadata": {},
   "outputs": [],
   "source": [
    "plt.hist(pred_final, bins=100)\n",
    "plt.tight_layout()"
   ]
  },
  {
   "attachments": {
    "image.png": {
     "image/png": "[encoded data removed]"
    }
   },
   "cell_type": "markdown",
   "metadata": {},
   "source": [
    "![image.png](attachment:image.png)"
   ]
  },
  {
   "cell_type": "markdown",
   "metadata": {},
   "source": [
    "# Post process"
   ]
  },
  {
   "cell_type": "code",
   "execution_count": null,
   "metadata": {},
   "outputs": [],
   "source": [
    "# objective를 poisson으로 해도 prediction의 분포가 Target의 분포와 차이가 있습니다.\n",
    "# 이를 조금 보정해주고자 작은값에 빼주고, 큰값은 누적해서 더해줬습니다.\n",
    "# 조금 더 좋은 postprocessing이 있겠지만 단순히 이렇게 해도 cv, lb에 상승이 있어 시행하였습니다.\n",
    "def post_process(Data_input):\n",
    "    Data = Data_input.copy()\n",
    "    Data[Data < 30] = Data[Data < 30] - 1\n",
    "    Data[Data < 0] = 0\n",
    "    \n",
    "    Data[Data >= 50] = Data[Data >= 50] + np.exp(0.1)\n",
    "    Data[Data >= 60] = Data[Data >= 60] + np.exp(0.15)\n",
    "    Data[Data >= 80] = Data[Data >= 80] + np.exp(0.2)\n",
    "    Data[Data >= 100] = Data[Data >= 100] + np.exp(0.25)\n",
    "    Data[Data >= 150] = Data[Data >= 150] + np.exp(0.3)\n",
    "    return Data"
   ]
  },
  {
   "cell_type": "code",
   "execution_count": null,
   "metadata": {},
   "outputs": [],
   "source": [
    "pred_final_postprocess = post_process(pd.Series(pred_final))"
   ]
  },
  {
   "cell_type": "code",
   "execution_count": null,
   "metadata": {},
   "outputs": [],
   "source": [
    "plt.hist(np.array(pred_final_postprocess), bins=100, density=True, alpha=0.5)\n",
    "plt.hist(train['ad_periods'], bins=100, density=True, alpha=0.5)\n",
    "plt.tight_layout()"
   ]
  },
  {
   "attachments": {
    "image.png": {
     "image/png": "[encoded data removed]"
    }
   },
   "cell_type": "markdown",
   "metadata": {},
   "source": [
    "![image.png](attachment:image.png)"
   ]
  },
  {
   "cell_type": "code",
   "execution_count": null,
   "metadata": {},
   "outputs": [],
   "source": [
    "sample_submission['ad_periods'] = pred_final_postprocess\n",
    "sample_submission.to_csv('/home/workspace/user-workspace/prediction/prediction.csv', index=False)"
   ]
  },
  {
   "cell_type": "markdown",
   "metadata": {},
   "source": [
    "# submit"
   ]
  },
  {
   "cell_type": "code",
   "execution_count": null,
   "metadata": {},
   "outputs": [],
   "source": [
    "import os\n",
    "from nipa.taskSubmit import nipa_submit\n",
    "\n",
    "team_id = \"1192\"\n",
    "task_no= \"147\"\n",
    "prediction_path = '/home/workspace/user-workspace/prediction/prediction.csv'\n",
    "# 파일 존재 여부 확인\n",
    "print(\"is file: \", os.path.isfile(prediction_path))\n",
    "\n",
    "# 제출 성공\n",
    "nipa_submit(team_id=team_id,\n",
    "task_no=task_no,\n",
    "result=prediction_path\n",
    ")"
   ]
  },
  {
   "cell_type": "code",
   "execution_count": null,
   "metadata": {},
   "outputs": [],
   "source": []
  },
  {
   "cell_type": "code",
   "execution_count": null,
   "metadata": {},
   "outputs": [],
   "source": []
  }
 ],
 "metadata": {
  "kernelspec": {
   "display_name": "Python 3",
   "language": "python",
   "name": "python3"
  },
  "language_info": {
   "codemirror_mode": {
    "name": "ipython",
    "version": 3
   },
   "file_extension": ".py",
   "mimetype": "text/x-python",
   "name": "python",
   "nbconvert_exporter": "python",
   "pygments_lexer": "ipython3",
   "version": "3.8.3"
  }
 },
 "nbformat": 4,
 "nbformat_minor": 4
}
